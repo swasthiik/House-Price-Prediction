{
 "cells": [
  {
   "cell_type": "code",
   "execution_count": null,
   "id": "6a062a44",
   "metadata": {
    "vscode": {
     "languageId": "plaintext"
    }
   },
   "outputs": [],
   "source": [
    "# Import Libraries\n",
    "import numpy as np\n",
    "import pandas as pd\n",
    "from sklearn.linear_model import LinearRegression\n",
    "import pickle\n",
    "\n",
    "# Sample Data\n",
    "# Area (sqft) vs Price\n",
    "data = pd.DataFrame({\n",
    "    'area': [1000, 1500, 2000, 2500, 3000],\n",
    "    'bedrooms': [2, 3, 3, 4, 4],\n",
    "    'price': [150000, 200000, 250000, 300000, 350000]\n",
    "})\n",
    "\n",
    "X = data[['area', 'bedrooms']]\n",
    "y = data['price']\n",
    "\n",
    "# Train Model\n",
    "model = LinearRegression()\n",
    "model.fit(X, y)\n",
    "\n",
    "# Save Model\n",
    "pickle.dump(model, open('model.pkl', 'wb'))\n"
   ]
  }
 ],
 "metadata": {
  "language_info": {
   "name": "python"
  }
 },
 "nbformat": 4,
 "nbformat_minor": 5
}
